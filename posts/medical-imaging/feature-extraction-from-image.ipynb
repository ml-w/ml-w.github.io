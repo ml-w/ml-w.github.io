{
 "cells": [
  {
   "cell_type": "markdown",
   "metadata": {},
   "source": [
    "---\n",
    "title: \"Texture analysis of medical images\"\n",
    "author: \"MLun Wong\"\n",
    "date: \"2024-01-19\"\n",
    "categories: [DICOM, NIFTI, radiomics, texture]\n",
    "format:\n",
    "    html:\n",
    "        mainfont: Georgia\n",
    "draft: True\n",
    "# jupyter: conda-env-vtk-py\n",
    "---\n",
    "\n",
    "# Texture of Image\n",
    "\n",
    "Image textures are typically understood as the quantitative characteristics of images that may not be readily apparent to the human eye. These characteristics are often determined by the statistical distribution of differences in inter-voxel intensities. For consistency and accuracy, it is ideal that these textural features yield similar conclusions when extracted from various locations within the same target.\n",
    "\n",
    "Many applications arise from texture analysis. In the field of radiology, heterogeneity within a lesion, as evidenced by divergent textural characteristics in different regions, may indicate a highly differentiated histology. Such inhomogeneity is a critical factor in the assessment and diagnosis of pathological conditions and it might be reflected by some of the texture features.\n",
    "\n",
    "## Global and Local Texture\n",
    "\n",
    "Texture analysis can be performed on different scales, from global textures that capture the overall pattern of an image to local textures that focus on specific regions of interest (ROIs). When textures are extracted from an ROI defined arbitrarily, it is essential that the chosen ROI is representative of the desired target to ensure that the analysis is meaningful. This suggests that the selection of an ROI should be done with careful consideration of the image's structure and the specific analytical goals.\n",
    "\n",
    "For example, for global investigation of MRI, there are often air captured within the FOV of the scan. Obviously, air is not the subject of interest and it is typically useful to engage a spatial mask to label the location where textures are to be computed from. For local investigation, one single patch extracted from the target tissue might not be representative enough. Instead, it might be strategically benefit to extract multiple patches from different locations of the same tissue to obtain an averaged profile of textures.\n",
    "\n",
    "## Filtered Image Textures\n",
    "\n",
    "Texture extraction can also be used in combination with various imaging filters to enhance certain features or reduce noise. For example, an input image can first be processed using a square filter before textures are extracted, which may emphasize the edges and corners within the image. The general rule to choose an imaging filter is that it should augment the discriminative power of the textural features for the task at hand. Filters should be selected based on their ability to highlight the patterns of interest while minimizing the influence of irrelevant variations in the image. \n",
    "\n",
    "Regardless, the choice of filter is not always obvious as the key texture that is capable for the discrimination is often invisible to the naked eye. Thus, another strategy to identify the desirable texture is high-throughput analysis to look at as many imaging filter and textures as possible and select those that can perform the desired discrimination with the best performance. \n"
   ]
  },
  {
   "cell_type": "code",
   "execution_count": null,
   "metadata": {},
   "outputs": [],
   "source": []
  }
 ],
 "metadata": {
  "kernelspec": {
   "display_name": "data_analysis",
   "language": "python",
   "name": "python3"
  },
  "language_info": {
   "name": "python",
   "version": "3.10.13"
  }
 },
 "nbformat": 4,
 "nbformat_minor": 2
}
